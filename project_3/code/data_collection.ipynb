{
 "cells": [
  {
   "cell_type": "markdown",
   "metadata": {},
   "source": [
    "# Project 3 Web APIs & Classification"
   ]
  },
  {
   "cell_type": "markdown",
   "metadata": {},
   "source": [
    "## Data Collection"
   ]
  },
  {
   "cell_type": "code",
   "execution_count": 1,
   "metadata": {},
   "outputs": [],
   "source": [
    "# Import libraries\n",
    "import requests\n",
    "import time\n",
    "import numpy as np\n",
    "import pandas as pd\n",
    "import matplotlib.pyplot as plt\n",
    "import seaborn as sns\n",
    "from tqdm import tqdm_notebook as tqdm\n",
    "\n",
    "\n",
    "%matplotlib inline\n",
    "sns.set(font_scale=1.5)"
   ]
  },
  {
   "cell_type": "markdown",
   "metadata": {},
   "source": [
    "#### 1. Exploring the data structure and identify the useful and relevanet data to the project on Reddit"
   ]
  },
  {
   "cell_type": "code",
   "execution_count": 2,
   "metadata": {},
   "outputs": [],
   "source": [
    "#define the url\n",
    "url=\"https://www.reddit.com/r/PS5/new.json\""
   ]
  },
  {
   "cell_type": "code",
   "execution_count": 3,
   "metadata": {},
   "outputs": [],
   "source": [
    "#set the User-agent\n",
    "header={\"User-agent\":\"Daiyu52177475885\"}"
   ]
  },
  {
   "cell_type": "code",
   "execution_count": 4,
   "metadata": {},
   "outputs": [],
   "source": [
    "#access the address\n",
    "res= requests.get(url, headers=header)"
   ]
  },
  {
   "cell_type": "code",
   "execution_count": 5,
   "metadata": {},
   "outputs": [
    {
     "data": {
      "text/plain": [
       "200"
      ]
     },
     "execution_count": 5,
     "metadata": {},
     "output_type": "execute_result"
    }
   ],
   "source": [
    "#get the request status\n",
    "res.status_code"
   ]
  },
  {
   "cell_type": "code",
   "execution_count": 6,
   "metadata": {},
   "outputs": [
    {
     "data": {
      "text/plain": [
       "dict_keys(['kind', 'data'])"
      ]
     },
     "execution_count": 6,
     "metadata": {},
     "output_type": "execute_result"
    }
   ],
   "source": [
    "#check the keys in json file\n",
    "data=res.json()\n",
    "data.keys()"
   ]
  },
  {
   "cell_type": "code",
   "execution_count": 7,
   "metadata": {},
   "outputs": [
    {
     "data": {
      "text/plain": [
       "dict_keys(['modhash', 'dist', 'children', 'after', 'before'])"
      ]
     },
     "execution_count": 7,
     "metadata": {},
     "output_type": "execute_result"
    }
   ],
   "source": [
    "data[\"data\"].keys()"
   ]
  },
  {
   "cell_type": "code",
   "execution_count": 8,
   "metadata": {},
   "outputs": [
    {
     "data": {
      "text/plain": [
       "{'approved_at_utc': None,\n",
       " 'subreddit': 'PS5',\n",
       " 'selftext': '',\n",
       " 'author_fullname': 't2_563ahk4e',\n",
       " 'saved': False,\n",
       " 'mod_reason_title': None,\n",
       " 'gilded': 0,\n",
       " 'clicked': False,\n",
       " 'title': '[Video] Override 2: Super Mech League - Gameplay Trailer | PS4, PS5',\n",
       " 'link_flair_richtext': [{'a': ':ps:',\n",
       "   'e': 'emoji',\n",
       "   'u': 'https://emoji.redditmedia.com/jcd8bjr024m41_t5_2s887/ps'},\n",
       "  {'e': 'text', 't': ' Official'}],\n",
       " 'subreddit_name_prefixed': 'r/PS5',\n",
       " 'hidden': False,\n",
       " 'pwls': 6,\n",
       " 'link_flair_css_class': None,\n",
       " 'downs': 0,\n",
       " 'thumbnail_height': 105,\n",
       " 'top_awarded_type': None,\n",
       " 'hide_score': True,\n",
       " 'name': 't3_j38ex8',\n",
       " 'quarantine': False,\n",
       " 'link_flair_text_color': 'light',\n",
       " 'upvote_ratio': 0.8,\n",
       " 'author_flair_background_color': None,\n",
       " 'subreddit_type': 'public',\n",
       " 'ups': 6,\n",
       " 'total_awards_received': 0,\n",
       " 'media_embed': {'content': '&lt;iframe width=\"600\" height=\"338\" src=\"https://www.youtube.com/embed/eBlRTsiFy3E?feature=oembed&amp;enablejsapi=1\" frameborder=\"0\" allow=\"accelerometer; autoplay; clipboard-write; encrypted-media; gyroscope; picture-in-picture\" allowfullscreen&gt;&lt;/iframe&gt;',\n",
       "  'width': 600,\n",
       "  'scrolling': False,\n",
       "  'height': 338},\n",
       " 'thumbnail_width': 140,\n",
       " 'author_flair_template_id': None,\n",
       " 'is_original_content': False,\n",
       " 'user_reports': [],\n",
       " 'secure_media': {'type': 'youtube.com',\n",
       "  'oembed': {'provider_url': 'https://www.youtube.com/',\n",
       "   'version': '1.0',\n",
       "   'title': 'Override 2: Super Mech League - Gameplay Trailer | PS4, PS5',\n",
       "   'type': 'video',\n",
       "   'thumbnail_width': 480,\n",
       "   'height': 338,\n",
       "   'width': 600,\n",
       "   'html': '&lt;iframe width=\"600\" height=\"338\" src=\"https://www.youtube.com/embed/eBlRTsiFy3E?feature=oembed&amp;enablejsapi=1\" frameborder=\"0\" allow=\"accelerometer; autoplay; clipboard-write; encrypted-media; gyroscope; picture-in-picture\" allowfullscreen&gt;&lt;/iframe&gt;',\n",
       "   'author_name': 'PlayStation',\n",
       "   'provider_name': 'YouTube',\n",
       "   'thumbnail_url': 'https://i.ytimg.com/vi/eBlRTsiFy3E/hqdefault.jpg',\n",
       "   'thumbnail_height': 360,\n",
       "   'author_url': 'https://www.youtube.com/user/PlayStation'}},\n",
       " 'is_reddit_media_domain': False,\n",
       " 'is_meta': False,\n",
       " 'category': None,\n",
       " 'secure_media_embed': {'content': '&lt;iframe width=\"600\" height=\"338\" src=\"https://www.youtube.com/embed/eBlRTsiFy3E?feature=oembed&amp;enablejsapi=1\" frameborder=\"0\" allow=\"accelerometer; autoplay; clipboard-write; encrypted-media; gyroscope; picture-in-picture\" allowfullscreen&gt;&lt;/iframe&gt;',\n",
       "  'width': 600,\n",
       "  'scrolling': False,\n",
       "  'media_domain_url': 'https://www.redditmedia.com/mediaembed/j38ex8',\n",
       "  'height': 338},\n",
       " 'link_flair_text': ':ps: Official',\n",
       " 'can_mod_post': False,\n",
       " 'score': 6,\n",
       " 'approved_by': None,\n",
       " 'author_premium': False,\n",
       " 'thumbnail': 'https://b.thumbs.redditmedia.com/Qgo1TqLQkvoV0r9rE0tS_XImGqJ3mL2ooOKhCMu4lLw.jpg',\n",
       " 'edited': False,\n",
       " 'author_flair_css_class': None,\n",
       " 'author_flair_richtext': [],\n",
       " 'gildings': {},\n",
       " 'post_hint': 'rich:video',\n",
       " 'content_categories': None,\n",
       " 'is_self': False,\n",
       " 'mod_note': None,\n",
       " 'created': 1601587176.0,\n",
       " 'link_flair_type': 'richtext',\n",
       " 'wls': 6,\n",
       " 'removed_by_category': None,\n",
       " 'banned_by': None,\n",
       " 'author_flair_type': 'text',\n",
       " 'domain': 'youtube.com',\n",
       " 'allow_live_comments': False,\n",
       " 'selftext_html': None,\n",
       " 'likes': None,\n",
       " 'suggested_sort': None,\n",
       " 'banned_at_utc': None,\n",
       " 'url_overridden_by_dest': 'https://www.youtube.com/watch?v=eBlRTsiFy3E',\n",
       " 'view_count': None,\n",
       " 'archived': False,\n",
       " 'no_follow': False,\n",
       " 'is_crosspostable': False,\n",
       " 'pinned': False,\n",
       " 'over_18': False,\n",
       " 'preview': {'images': [{'source': {'url': 'https://external-preview.redd.it/cIEHHlEOqRyQr9t7FzOv6ETdM8Pb7_-SApiaMuTQZUI.jpg?auto=webp&amp;s=8cb9a4b77dfe62767153c1a4abd9db55aad7f8fb',\n",
       "     'width': 480,\n",
       "     'height': 360},\n",
       "    'resolutions': [{'url': 'https://external-preview.redd.it/cIEHHlEOqRyQr9t7FzOv6ETdM8Pb7_-SApiaMuTQZUI.jpg?width=108&amp;crop=smart&amp;auto=webp&amp;s=56802d8c86f162d8dae363fbc920dcf09945083e',\n",
       "      'width': 108,\n",
       "      'height': 81},\n",
       "     {'url': 'https://external-preview.redd.it/cIEHHlEOqRyQr9t7FzOv6ETdM8Pb7_-SApiaMuTQZUI.jpg?width=216&amp;crop=smart&amp;auto=webp&amp;s=a8aa28f9d19e9cf05da2c3a69f707d06d98a5fcf',\n",
       "      'width': 216,\n",
       "      'height': 162},\n",
       "     {'url': 'https://external-preview.redd.it/cIEHHlEOqRyQr9t7FzOv6ETdM8Pb7_-SApiaMuTQZUI.jpg?width=320&amp;crop=smart&amp;auto=webp&amp;s=2c2e009358a6ded4f093776856b3b21ab8872734',\n",
       "      'width': 320,\n",
       "      'height': 240}],\n",
       "    'variants': {},\n",
       "    'id': 'ulXBkuDdlspWEyWnT1LtYKslPuMIi2BsE3Q2qTLajhk'}],\n",
       "  'enabled': False},\n",
       " 'all_awardings': [],\n",
       " 'awarders': [],\n",
       " 'media_only': False,\n",
       " 'link_flair_template_id': '0d97c8aa-63de-11ea-82a2-0e52c5343281',\n",
       " 'can_gild': False,\n",
       " 'spoiler': False,\n",
       " 'locked': False,\n",
       " 'author_flair_text': None,\n",
       " 'treatment_tags': [],\n",
       " 'visited': False,\n",
       " 'removed_by': None,\n",
       " 'num_reports': None,\n",
       " 'distinguished': None,\n",
       " 'subreddit_id': 't5_2s887',\n",
       " 'mod_reason_by': None,\n",
       " 'removal_reason': None,\n",
       " 'link_flair_background_color': '#0070d1',\n",
       " 'id': 'j38ex8',\n",
       " 'is_robot_indexable': True,\n",
       " 'report_reasons': None,\n",
       " 'author': 'MrValhallaYT',\n",
       " 'discussion_type': None,\n",
       " 'num_comments': 4,\n",
       " 'send_replies': True,\n",
       " 'whitelist_status': 'all_ads',\n",
       " 'contest_mode': False,\n",
       " 'mod_reports': [],\n",
       " 'author_patreon_flair': False,\n",
       " 'author_flair_text_color': None,\n",
       " 'permalink': '/r/PS5/comments/j38ex8/video_override_2_super_mech_league_gameplay/',\n",
       " 'parent_whitelist_status': 'all_ads',\n",
       " 'stickied': False,\n",
       " 'url': 'https://www.youtube.com/watch?v=eBlRTsiFy3E',\n",
       " 'subreddit_subscribers': 539743,\n",
       " 'created_utc': 1601558376.0,\n",
       " 'num_crossposts': 0,\n",
       " 'media': {'type': 'youtube.com',\n",
       "  'oembed': {'provider_url': 'https://www.youtube.com/',\n",
       "   'version': '1.0',\n",
       "   'title': 'Override 2: Super Mech League - Gameplay Trailer | PS4, PS5',\n",
       "   'type': 'video',\n",
       "   'thumbnail_width': 480,\n",
       "   'height': 338,\n",
       "   'width': 600,\n",
       "   'html': '&lt;iframe width=\"600\" height=\"338\" src=\"https://www.youtube.com/embed/eBlRTsiFy3E?feature=oembed&amp;enablejsapi=1\" frameborder=\"0\" allow=\"accelerometer; autoplay; clipboard-write; encrypted-media; gyroscope; picture-in-picture\" allowfullscreen&gt;&lt;/iframe&gt;',\n",
       "   'author_name': 'PlayStation',\n",
       "   'provider_name': 'YouTube',\n",
       "   'thumbnail_url': 'https://i.ytimg.com/vi/eBlRTsiFy3E/hqdefault.jpg',\n",
       "   'thumbnail_height': 360,\n",
       "   'author_url': 'https://www.youtube.com/user/PlayStation'}},\n",
       " 'is_video': False}"
      ]
     },
     "execution_count": 8,
     "metadata": {},
     "output_type": "execute_result"
    }
   ],
   "source": [
    "data[\"data\"][\"children\"][1][\"data\"]"
   ]
  },
  {
   "cell_type": "markdown",
   "metadata": {},
   "source": [
    "#### 2. Scrape Data and save it "
   ]
  },
  {
   "cell_type": "code",
   "execution_count": 9,
   "metadata": {},
   "outputs": [],
   "source": [
    "# Define function to scrape data\n",
    "def scrape(urls, run):\n",
    "   \n",
    "    # Get posts as list of dictionaries, each containing data on one post\n",
    "    posts = []\n",
    "    for url in tqdm(urls):\n",
    "        after = None\n",
    "        for i in tqdm(range(run)):\n",
    "            if after == None:\n",
    "                params = {}\n",
    "            else:\n",
    "                params = {'after': after}\n",
    "            headers = {'User-agent': 'GA SG Bot 0.1'}\n",
    "            res = requests.get(url, params=params, headers=headers)\n",
    "            if res.status_code == 200:\n",
    "                the_json = res.json()\n",
    "                posts.extend(the_json['data']['children'])\n",
    "                after = the_json['data']['after']\n",
    "            else:\n",
    "                print(res.status_code)\n",
    "                break\n",
    "            time.sleep(1)  \n",
    "    \n",
    "    # Extract title, text and subreddit from data and return in a DataFrame\n",
    "    titles, selftexts, subreddits, num_comments,upvote = [], [],[],[],[]\n",
    "    for i in range(len(posts)):\n",
    "        titles.append(posts[i]['data']['title'])\n",
    "        selftexts.append(posts[i]['data']['selftext'])\n",
    "        subreddits.append(posts[i]['data']['subreddit'])\n",
    "        num_comments.append(posts[i]['data']['num_comments'])\n",
    "        upvote.append(posts[i]['data']['upvote_ratio'])\n",
    "    return pd.DataFrame({\"title\": titles,'selftext': selftexts, 'subreddit': subreddits,\"num_comments\": num_comments,\\\n",
    "                         \"upvote\":upvote})"
   ]
  },
  {
   "cell_type": "code",
   "execution_count": 10,
   "metadata": {},
   "outputs": [
    {
     "name": "stderr",
     "output_type": "stream",
     "text": [
      "<ipython-input-9-75bb444f4b80>:6: TqdmDeprecationWarning: This function will be removed in tqdm==5.0.0\n",
      "Please use `tqdm.notebook.tqdm` instead of `tqdm.tqdm_notebook`\n",
      "  for url in tqdm(urls):\n"
     ]
    },
    {
     "data": {
      "application/vnd.jupyter.widget-view+json": {
       "model_id": "7c59016ae3b743469eb5370f8b3f980b",
       "version_major": 2,
       "version_minor": 0
      },
      "text/plain": [
       "HBox(children=(FloatProgress(value=0.0, max=2.0), HTML(value='')))"
      ]
     },
     "metadata": {},
     "output_type": "display_data"
    },
    {
     "name": "stderr",
     "output_type": "stream",
     "text": [
      "<ipython-input-9-75bb444f4b80>:8: TqdmDeprecationWarning: This function will be removed in tqdm==5.0.0\n",
      "Please use `tqdm.notebook.tqdm` instead of `tqdm.tqdm_notebook`\n",
      "  for i in tqdm(range(run)):\n"
     ]
    },
    {
     "data": {
      "application/vnd.jupyter.widget-view+json": {
       "model_id": "0a4a620787cd4d8087edc784e1db8a0f",
       "version_major": 2,
       "version_minor": 0
      },
      "text/plain": [
       "HBox(children=(FloatProgress(value=0.0, max=50.0), HTML(value='')))"
      ]
     },
     "metadata": {},
     "output_type": "display_data"
    },
    {
     "name": "stdout",
     "output_type": "stream",
     "text": [
      "\n"
     ]
    },
    {
     "data": {
      "application/vnd.jupyter.widget-view+json": {
       "model_id": "590f788606754f4d9084a6e3ed687a1b",
       "version_major": 2,
       "version_minor": 0
      },
      "text/plain": [
       "HBox(children=(FloatProgress(value=0.0, max=50.0), HTML(value='')))"
      ]
     },
     "metadata": {},
     "output_type": "display_data"
    },
    {
     "name": "stdout",
     "output_type": "stream",
     "text": [
      "\n",
      "\n"
     ]
    }
   ],
   "source": [
    "# Scrape posts from subreddits\n",
    "df = scrape([\"https://www.reddit.com/r/XboxSeriesX.json?t=all\",\"https://www.reddit.com/r/PS5/new/.json\"], 50)"
   ]
  },
  {
   "cell_type": "code",
   "execution_count": 11,
   "metadata": {},
   "outputs": [
    {
     "data": {
      "text/plain": [
       "(2482, 5)"
      ]
     },
     "execution_count": 11,
     "metadata": {},
     "output_type": "execute_result"
    }
   ],
   "source": [
    "#check the shape of the dataframe\n",
    "df.shape"
   ]
  },
  {
   "cell_type": "code",
   "execution_count": 12,
   "metadata": {},
   "outputs": [],
   "source": [
    "#do not run below code that will change the analysis results due to the updated posting\n",
    "# Save results from scrape as csv\n",
    "#df.to_csv('../data/game.csv', index=False)"
   ]
  },
  {
   "cell_type": "code",
   "execution_count": null,
   "metadata": {},
   "outputs": [],
   "source": []
  }
 ],
 "metadata": {
  "kernelspec": {
   "display_name": "Python 3",
   "language": "python",
   "name": "python3"
  },
  "language_info": {
   "codemirror_mode": {
    "name": "ipython",
    "version": 3
   },
   "file_extension": ".py",
   "mimetype": "text/x-python",
   "name": "python",
   "nbconvert_exporter": "python",
   "pygments_lexer": "ipython3",
   "version": "3.8.3"
  }
 },
 "nbformat": 4,
 "nbformat_minor": 4
}
