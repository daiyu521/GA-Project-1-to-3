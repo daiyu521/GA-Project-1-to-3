{
 "cells": [
  {
   "cell_type": "markdown",
   "metadata": {},
   "source": [
    "# Project 3 Web APIs & Classification"
   ]
  },
  {
   "cell_type": "markdown",
   "metadata": {},
   "source": [
    "## Data Cleaning"
   ]
  },
  {
   "cell_type": "code",
   "execution_count": 1,
   "metadata": {},
   "outputs": [],
   "source": [
    "# Import libraries\n",
    "import numpy as np\n",
    "import pandas as pd\n",
    "import matplotlib.pyplot as plt\n",
    "import seaborn as sns\n",
    "from os import path\n",
    "from PIL import Image\n",
    "from wordcloud import WordCloud, STOPWORDS, ImageColorGenerator\n",
    "from bs4 import BeautifulSoup  \n",
    "import matplotlib.pyplot as plt\n",
    "import re\n",
    "from nltk.corpus import stopwords\n",
    "from pandas import DataFrame\n",
    "from sklearn.feature_extraction.text import CountVectorizer,TfidfVectorizer\n",
    "from nltk.stem import WordNetLemmatizer\n",
    "\n",
    "\n",
    "%matplotlib inline\n",
    "sns.set(font_scale=1.5)"
   ]
  },
  {
   "cell_type": "markdown",
   "metadata": {},
   "source": [
    "#### 1. Data Cleaning"
   ]
  },
  {
   "cell_type": "code",
   "execution_count": 2,
   "metadata": {},
   "outputs": [],
   "source": [
    "#load the CSV file in case not scraping\n",
    "df = pd.read_csv('../data/game.csv')"
   ]
  },
  {
   "cell_type": "code",
   "execution_count": 3,
   "metadata": {},
   "outputs": [
    {
     "data": {
      "text/html": [
       "<div>\n",
       "<style scoped>\n",
       "    .dataframe tbody tr th:only-of-type {\n",
       "        vertical-align: middle;\n",
       "    }\n",
       "\n",
       "    .dataframe tbody tr th {\n",
       "        vertical-align: top;\n",
       "    }\n",
       "\n",
       "    .dataframe thead th {\n",
       "        text-align: right;\n",
       "    }\n",
       "</style>\n",
       "<table border=\"1\" class=\"dataframe\">\n",
       "  <thead>\n",
       "    <tr style=\"text-align: right;\">\n",
       "      <th></th>\n",
       "      <th>title</th>\n",
       "      <th>selftext</th>\n",
       "      <th>subreddit</th>\n",
       "      <th>num_comments</th>\n",
       "      <th>upvote</th>\n",
       "    </tr>\n",
       "  </thead>\n",
       "  <tbody>\n",
       "    <tr>\n",
       "      <th>0</th>\n",
       "      <td>Welcoming Bethesda to the Xbox Family</td>\n",
       "      <td>&amp;amp;#x200B;\\n\\nhttps://preview.redd.it/du20aq...</td>\n",
       "      <td>XboxSeriesX</td>\n",
       "      <td>76</td>\n",
       "      <td>0.94</td>\n",
       "    </tr>\n",
       "    <tr>\n",
       "      <th>1</th>\n",
       "      <td>Beginner's Guide to XSX/XSS, Game Pass, Storag...</td>\n",
       "      <td>Welcome to the Xbox family!\\n\\nThe next genera...</td>\n",
       "      <td>XboxSeriesX</td>\n",
       "      <td>20</td>\n",
       "      <td>0.95</td>\n",
       "    </tr>\n",
       "    <tr>\n",
       "      <th>2</th>\n",
       "      <td>Sharing this coloured pencil fanart of Master ...</td>\n",
       "      <td>NaN</td>\n",
       "      <td>XboxSeriesX</td>\n",
       "      <td>56</td>\n",
       "      <td>0.98</td>\n",
       "    </tr>\n",
       "    <tr>\n",
       "      <th>3</th>\n",
       "      <td>Tom Warren on Twitter - Microsoft will make Be...</td>\n",
       "      <td>NaN</td>\n",
       "      <td>XboxSeriesX</td>\n",
       "      <td>208</td>\n",
       "      <td>0.96</td>\n",
       "    </tr>\n",
       "    <tr>\n",
       "      <th>4</th>\n",
       "      <td>Someone sent me this, I thought you might like it</td>\n",
       "      <td>NaN</td>\n",
       "      <td>XboxSeriesX</td>\n",
       "      <td>299</td>\n",
       "      <td>0.93</td>\n",
       "    </tr>\n",
       "    <tr>\n",
       "      <th>5</th>\n",
       "      <td>Why does there seem to be this aura of “Micros...</td>\n",
       "      <td>I don’t get it. All the people complaining abo...</td>\n",
       "      <td>XboxSeriesX</td>\n",
       "      <td>221</td>\n",
       "      <td>0.88</td>\n",
       "    </tr>\n",
       "    <tr>\n",
       "      <th>6</th>\n",
       "      <td>Today I started messing around with etching de...</td>\n",
       "      <td>NaN</td>\n",
       "      <td>XboxSeriesX</td>\n",
       "      <td>9</td>\n",
       "      <td>0.92</td>\n",
       "    </tr>\n",
       "    <tr>\n",
       "      <th>7</th>\n",
       "      <td>I won a Series X from Taco Bell!</td>\n",
       "      <td>.....from a $5 box. Stared at my phone for sev...</td>\n",
       "      <td>XboxSeriesX</td>\n",
       "      <td>26</td>\n",
       "      <td>0.80</td>\n",
       "    </tr>\n",
       "    <tr>\n",
       "      <th>8</th>\n",
       "      <td>MKBHD teasing his working Series X</td>\n",
       "      <td>NaN</td>\n",
       "      <td>XboxSeriesX</td>\n",
       "      <td>36</td>\n",
       "      <td>0.81</td>\n",
       "    </tr>\n",
       "    <tr>\n",
       "      <th>9</th>\n",
       "      <td>Does anyone else just check the status of your...</td>\n",
       "      <td>NaN</td>\n",
       "      <td>XboxSeriesX</td>\n",
       "      <td>132</td>\n",
       "      <td>0.90</td>\n",
       "    </tr>\n",
       "  </tbody>\n",
       "</table>\n",
       "</div>"
      ],
      "text/plain": [
       "                                               title  \\\n",
       "0              Welcoming Bethesda to the Xbox Family   \n",
       "1  Beginner's Guide to XSX/XSS, Game Pass, Storag...   \n",
       "2  Sharing this coloured pencil fanart of Master ...   \n",
       "3  Tom Warren on Twitter - Microsoft will make Be...   \n",
       "4  Someone sent me this, I thought you might like it   \n",
       "5  Why does there seem to be this aura of “Micros...   \n",
       "6  Today I started messing around with etching de...   \n",
       "7                   I won a Series X from Taco Bell!   \n",
       "8                 MKBHD teasing his working Series X   \n",
       "9  Does anyone else just check the status of your...   \n",
       "\n",
       "                                            selftext    subreddit  \\\n",
       "0  &amp;#x200B;\\n\\nhttps://preview.redd.it/du20aq...  XboxSeriesX   \n",
       "1  Welcome to the Xbox family!\\n\\nThe next genera...  XboxSeriesX   \n",
       "2                                                NaN  XboxSeriesX   \n",
       "3                                                NaN  XboxSeriesX   \n",
       "4                                                NaN  XboxSeriesX   \n",
       "5  I don’t get it. All the people complaining abo...  XboxSeriesX   \n",
       "6                                                NaN  XboxSeriesX   \n",
       "7  .....from a $5 box. Stared at my phone for sev...  XboxSeriesX   \n",
       "8                                                NaN  XboxSeriesX   \n",
       "9                                                NaN  XboxSeriesX   \n",
       "\n",
       "   num_comments  upvote  \n",
       "0            76    0.94  \n",
       "1            20    0.95  \n",
       "2            56    0.98  \n",
       "3           208    0.96  \n",
       "4           299    0.93  \n",
       "5           221    0.88  \n",
       "6             9    0.92  \n",
       "7            26    0.80  \n",
       "8            36    0.81  \n",
       "9           132    0.90  "
      ]
     },
     "execution_count": 3,
     "metadata": {},
     "output_type": "execute_result"
    }
   ],
   "source": [
    "#display first 10 row of the dataframe\n",
    "df.head(10)"
   ]
  },
  {
   "cell_type": "code",
   "execution_count": 4,
   "metadata": {},
   "outputs": [
    {
     "data": {
      "text/plain": [
       "title             0\n",
       "selftext        696\n",
       "subreddit         0\n",
       "num_comments      0\n",
       "upvote            0\n",
       "dtype: int64"
      ]
     },
     "execution_count": 4,
     "metadata": {},
     "output_type": "execute_result"
    }
   ],
   "source": [
    "# Check for Nan value\n",
    "df.isnull().sum()"
   ]
  },
  {
   "cell_type": "markdown",
   "metadata": {},
   "source": [
    "#### Address Missing Values\n",
    "There are the missing value in the \"selftext\" column. It seems some people will post a title without further explanation during their posting. And some people will give an additional explanation for their post titles in the post content section. Although not all posts have texts, their titles are complete. So I think it is better to combine the string columns\"title\" and \"selftext\" for modeling instead of dropping all missing values."
   ]
  },
  {
   "cell_type": "code",
   "execution_count": 5,
   "metadata": {},
   "outputs": [],
   "source": [
    "# fill NAN with empty string for the combination\n",
    "df.selftext.fillna(value='', inplace=True)"
   ]
  },
  {
   "cell_type": "code",
   "execution_count": 6,
   "metadata": {},
   "outputs": [],
   "source": [
    "#combine the two string columns \"title\" and \"selftext\" and add a space between the text\n",
    "df[\"feature\"] = df[\"title\"] + \" \" + df[\"selftext\"]"
   ]
  },
  {
   "cell_type": "code",
   "execution_count": 7,
   "metadata": {},
   "outputs": [
    {
     "data": {
      "text/plain": [
       "\"Welcoming Bethesda to the Xbox Family &amp;#x200B;\\n\\nhttps://preview.redd.it/du20aqzqedp51.jpg?width=1920&amp;format=pjpg&amp;auto=webp&amp;s=db5193c62a37d86f6a72dbe5bf1db4f064bb32f1\\n\\nHey everybody,\\n\\nIn celebration of Bethesda joining the Xbox family, we’d like to take this opportunity to acknowledge the awesome communities that’ll be joining the Xbox family, too:\\n\\n* [r/BethesdaSoftworks](https://www.reddit.com/r/BethesdaSoftworks/): A fan-made community dedicated to all games, mods, and projects related to the game publisher Bethesda Softworks and its subsidiary developer studios.\\n* [r/dishonored](https://www.reddit.com/r/dishonored/): Subreddit for the Arkane Studios video games Dishonored, Dishonored 2, and Dishonored: Death of the Outsider™.\\n* [r/Doom](https://www.reddit.com/r/Doom/): Everything related to the hit action-horror series DOOM, by id software.\\n* [r/ElderScrolls](https://www.reddit.com/r/ElderScrolls/): A community dedicated the Elder Scrolls franchise, developed by Bethesda Game Studios.\\n* [r/elderscrollsonline](https://www.reddit.com/r/elderscrollsonline/): A Reddit community dedicated to The Elder Scrolls Online, an MMO developed by Zenimax Online.\\n* [r/Fallout](https://www.reddit.com/r/Fallout/): A state-of-the-art subreddit from Vault-Tec dedicated to the Fallout franchise.\\n* [r/fo76](https://www.reddit.com/r/fo76/): Welcome to the Fallout Network subreddit for Fallout 76\\n* [r/prey](https://www.reddit.com/r/prey/): A community dedicated to all things related to the Prey franchise, developed by Arkane Studios and published by Bethesda.\\n* [r/quake](https://www.reddit.com/r/quake/): A subreddit for the classic Quake games from iD Software. Read the wiki for information!\\n* [r/QuakeChampions](https://www.reddit.com/r/QuakeChampions/): Quake Champions, the Arena FPS from Id Software and Bethesda Softworks\\n* [r/skyrim](https://www.reddit.com/r/skyrim/): A subreddit dedicated to the Elder Scrolls V: Skyrim.\\n* [r/Starfield](https://www.reddit.com/r/Starfield/): This subreddit is dedicated to Starfield, the upcoming role-playing space game being developed by Bethesda Game Studios.\\n* [r/theevilwithin](https://www.reddit.com/r/theevilwithin/): A community for discussions surrounding The Evil Within game series.\\n* [r/Wolfenstein](https://www.reddit.com/r/Wolfenstein/): A community for Wolfenstein fans.\\n\\nWe know that you enjoy a focused discussion of the next generation of Xbox, and the games that we love to play. If you're looking for high-quality discussion for any of the new franchises that'll be joining Xbox Game Studios, we highly recommend you join the discussion at the above subreddits, and support their fantastic communities.\\n\\nThanks everyone!\""
      ]
     },
     "execution_count": 7,
     "metadata": {},
     "output_type": "execute_result"
    }
   ],
   "source": [
    "#check the text after combination\n",
    "df[\"feature\"][0]"
   ]
  },
  {
   "cell_type": "code",
   "execution_count": 8,
   "metadata": {},
   "outputs": [
    {
     "data": {
      "text/plain": [
       "title           0\n",
       "selftext        0\n",
       "subreddit       0\n",
       "num_comments    0\n",
       "upvote          0\n",
       "feature         0\n",
       "dtype: int64"
      ]
     },
     "execution_count": 8,
     "metadata": {},
     "output_type": "execute_result"
    }
   ],
   "source": [
    "#Check for Nan value again\n",
    "df.isnull().sum()"
   ]
  },
  {
   "cell_type": "code",
   "execution_count": 9,
   "metadata": {},
   "outputs": [
    {
     "data": {
      "text/plain": [
       "title            object\n",
       "selftext         object\n",
       "subreddit        object\n",
       "num_comments      int64\n",
       "upvote          float64\n",
       "feature          object\n",
       "dtype: object"
      ]
     },
     "execution_count": 9,
     "metadata": {},
     "output_type": "execute_result"
    }
   ],
   "source": [
    "#check the datatype for the dataframe\n",
    "df.dtypes"
   ]
  },
  {
   "cell_type": "markdown",
   "metadata": {},
   "source": [
    "#### Remove duplicate rows"
   ]
  },
  {
   "cell_type": "code",
   "execution_count": 10,
   "metadata": {},
   "outputs": [
    {
     "data": {
      "text/plain": [
       "False    2164\n",
       "True      312\n",
       "dtype: int64"
      ]
     },
     "execution_count": 10,
     "metadata": {},
     "output_type": "execute_result"
    }
   ],
   "source": [
    "#check duplicate rows in dataframe\n",
    "df.duplicated().value_counts()"
   ]
  },
  {
   "cell_type": "code",
   "execution_count": 11,
   "metadata": {},
   "outputs": [],
   "source": [
    "#drop teh duplicate rows in dataframe\n",
    "df=df.drop_duplicates()"
   ]
  },
  {
   "cell_type": "code",
   "execution_count": 12,
   "metadata": {},
   "outputs": [
    {
     "data": {
      "text/plain": [
       "(2164, 6)"
      ]
     },
     "execution_count": 12,
     "metadata": {},
     "output_type": "execute_result"
    }
   ],
   "source": [
    "#check the dataframe shape again\n",
    "df.shape"
   ]
  },
  {
   "cell_type": "markdown",
   "metadata": {},
   "source": [
    "#### Statistic Summary\n",
    "To make sure our post collected are all relevant posts, I also look at the statistic summary for each post's number of comments and upvote ratio(upvotes/total votes).If there is a post with 0 comments or extremely low upvote ratio, I assume that it has a high chance of an unrelated post. From the below table and graph, we can see that a mean and median number of comments of 109 and 26  respectively, 50% post with comment number between 11 to 62. The max number of comments is 22002; a mean and median number of upvote ratio of 0.65 and 0.68  respectively, 50% post with upvote ratio between 0.46 to 0.85. The max upvote ration is 1.0. There are the outliers with min number of comments of 0, and min upvote ratio 0.04 which we are interested in.  I will exam whether they are the relevant posts."
   ]
  },
  {
   "cell_type": "code",
   "execution_count": 13,
   "metadata": {},
   "outputs": [
    {
     "data": {
      "text/html": [
       "<div>\n",
       "<style scoped>\n",
       "    .dataframe tbody tr th:only-of-type {\n",
       "        vertical-align: middle;\n",
       "    }\n",
       "\n",
       "    .dataframe tbody tr th {\n",
       "        vertical-align: top;\n",
       "    }\n",
       "\n",
       "    .dataframe thead th {\n",
       "        text-align: right;\n",
       "    }\n",
       "</style>\n",
       "<table border=\"1\" class=\"dataframe\">\n",
       "  <thead>\n",
       "    <tr style=\"text-align: right;\">\n",
       "      <th></th>\n",
       "      <th>count</th>\n",
       "      <th>mean</th>\n",
       "      <th>std</th>\n",
       "      <th>min</th>\n",
       "      <th>25%</th>\n",
       "      <th>50%</th>\n",
       "      <th>75%</th>\n",
       "      <th>max</th>\n",
       "    </tr>\n",
       "  </thead>\n",
       "  <tbody>\n",
       "    <tr>\n",
       "      <th>num_comments</th>\n",
       "      <td>2164.0</td>\n",
       "      <td>109.677449</td>\n",
       "      <td>788.356527</td>\n",
       "      <td>0.00</td>\n",
       "      <td>11.00</td>\n",
       "      <td>26.00</td>\n",
       "      <td>62.00</td>\n",
       "      <td>22002.0</td>\n",
       "    </tr>\n",
       "    <tr>\n",
       "      <th>upvote</th>\n",
       "      <td>2164.0</td>\n",
       "      <td>0.646543</td>\n",
       "      <td>0.234415</td>\n",
       "      <td>0.04</td>\n",
       "      <td>0.46</td>\n",
       "      <td>0.68</td>\n",
       "      <td>0.85</td>\n",
       "      <td>1.0</td>\n",
       "    </tr>\n",
       "  </tbody>\n",
       "</table>\n",
       "</div>"
      ],
      "text/plain": [
       "               count        mean         std   min    25%    50%    75%  \\\n",
       "num_comments  2164.0  109.677449  788.356527  0.00  11.00  26.00  62.00   \n",
       "upvote        2164.0    0.646543    0.234415  0.04   0.46   0.68   0.85   \n",
       "\n",
       "                  max  \n",
       "num_comments  22002.0  \n",
       "upvote            1.0  "
      ]
     },
     "execution_count": 13,
     "metadata": {},
     "output_type": "execute_result"
    }
   ],
   "source": [
    "#display the statistic summary\n",
    "df.describe().transpose()"
   ]
  },
  {
   "cell_type": "code",
   "execution_count": 14,
   "metadata": {},
   "outputs": [
    {
     "data": {
      "text/plain": [
       "<matplotlib.legend.Legend at 0x18233cb5220>"
      ]
     },
     "execution_count": 14,
     "metadata": {},
     "output_type": "execute_result"
    },
    {
     "data": {
      "image/png": "[encoded data removed]",
      "text/plain": [
       "<Figure size 648x432 with 1 Axes>"
      ]
     },
     "metadata": {},
     "output_type": "display_data"
    }
   ],
   "source": [
    "#plotting distribution of upvote\n",
    "plt.figure(figsize=(9,6))\n",
    "plt.hist(df['upvote'])\n",
    "plt.title('Upvote Ratio')\n",
    "plt.ylabel('Frequency')\n",
    "\n",
    "#draw line showing mean\n",
    "plt.axvline(df['upvote'].mean(), linestyle = '--', color = 'r', label ='mean')\n",
    "#draw line showing median\n",
    "plt.axvline(df['upvote'].median(), linestyle = '--', color = 'b', label ='median')\n",
    "plt.legend()"
   ]
  },
  {
   "cell_type": "markdown",
   "metadata": {},
   "source": [
    "#### Address the outliers\n",
    "\n",
    "The post with 0 comments is about the story trailer for Scarlet Nexus, a game developed for PS5 and XboxSeries. The content is relevant to our modeling. The post with an upvote ratio 0.04 is about the PS5 game Spiderman, which is also related to our modeling.  All the interested outliers are the reasonable value, they have 0 comments, and the low upvote ratio may due to the post being very new. I am not going to remove it from the dataframe. And the hottest post with the highest number of comments regards the PS5 pre-orders."
   ]
  },
  {
   "cell_type": "code",
   "execution_count": 15,
   "metadata": {},
   "outputs": [
    {
     "data": {
      "text/html": [
       "<div>\n",
       "<style scoped>\n",
       "    .dataframe tbody tr th:only-of-type {\n",
       "        vertical-align: middle;\n",
       "    }\n",
       "\n",
       "    .dataframe tbody tr th {\n",
       "        vertical-align: top;\n",
       "    }\n",
       "\n",
       "    .dataframe thead th {\n",
       "        text-align: right;\n",
       "    }\n",
       "</style>\n",
       "<table border=\"1\" class=\"dataframe\">\n",
       "  <thead>\n",
       "    <tr style=\"text-align: right;\">\n",
       "      <th></th>\n",
       "      <th>title</th>\n",
       "      <th>selftext</th>\n",
       "      <th>subreddit</th>\n",
       "      <th>num_comments</th>\n",
       "      <th>upvote</th>\n",
       "      <th>feature</th>\n",
       "    </tr>\n",
       "  </thead>\n",
       "  <tbody>\n",
       "    <tr>\n",
       "      <th>77</th>\n",
       "      <td>Scarlet Nexus ‘Story Trailer: Yuito</td>\n",
       "      <td></td>\n",
       "      <td>XboxSeriesX</td>\n",
       "      <td>0</td>\n",
       "      <td>0.67</td>\n",
       "      <td>Scarlet Nexus ‘Story Trailer: Yuito</td>\n",
       "    </tr>\n",
       "  </tbody>\n",
       "</table>\n",
       "</div>"
      ],
      "text/plain": [
       "                                  title selftext    subreddit  num_comments  \\\n",
       "77  Scarlet Nexus ‘Story Trailer: Yuito           XboxSeriesX             0   \n",
       "\n",
       "    upvote                               feature  \n",
       "77    0.67  Scarlet Nexus ‘Story Trailer: Yuito   "
      ]
     },
     "execution_count": 15,
     "metadata": {},
     "output_type": "execute_result"
    }
   ],
   "source": [
    "#check the outlier\n",
    "df[df[\"num_comments\"]==0]"
   ]
  },
  {
   "cell_type": "code",
   "execution_count": 16,
   "metadata": {},
   "outputs": [
    {
     "data": {
      "text/html": [
       "<div>\n",
       "<style scoped>\n",
       "    .dataframe tbody tr th:only-of-type {\n",
       "        vertical-align: middle;\n",
       "    }\n",
       "\n",
       "    .dataframe tbody tr th {\n",
       "        vertical-align: top;\n",
       "    }\n",
       "\n",
       "    .dataframe thead th {\n",
       "        text-align: right;\n",
       "    }\n",
       "</style>\n",
       "<table border=\"1\" class=\"dataframe\">\n",
       "  <thead>\n",
       "    <tr style=\"text-align: right;\">\n",
       "      <th></th>\n",
       "      <th>title</th>\n",
       "      <th>selftext</th>\n",
       "      <th>subreddit</th>\n",
       "      <th>num_comments</th>\n",
       "      <th>upvote</th>\n",
       "      <th>feature</th>\n",
       "    </tr>\n",
       "  </thead>\n",
       "  <tbody>\n",
       "    <tr>\n",
       "      <th>2473</th>\n",
       "      <td>PlayStation 5 Pre-order Megathread Redux</td>\n",
       "      <td>With more pre-order allocation stock being rel...</td>\n",
       "      <td>PS5</td>\n",
       "      <td>22002</td>\n",
       "      <td>0.97</td>\n",
       "      <td>PlayStation 5 Pre-order Megathread Redux With ...</td>\n",
       "    </tr>\n",
       "  </tbody>\n",
       "</table>\n",
       "</div>"
      ],
      "text/plain": [
       "                                         title  \\\n",
       "2473  PlayStation 5 Pre-order Megathread Redux   \n",
       "\n",
       "                                               selftext subreddit  \\\n",
       "2473  With more pre-order allocation stock being rel...       PS5   \n",
       "\n",
       "      num_comments  upvote                                            feature  \n",
       "2473         22002    0.97  PlayStation 5 Pre-order Megathread Redux With ...  "
      ]
     },
     "execution_count": 16,
     "metadata": {},
     "output_type": "execute_result"
    }
   ],
   "source": [
    "#check the outlier\n",
    "df[df[\"num_comments\"]==22002]"
   ]
  },
  {
   "cell_type": "code",
   "execution_count": 17,
   "metadata": {},
   "outputs": [
    {
     "data": {
      "text/plain": [
       "array(['Do you guys think the new spider man will come with new game plus'],\n",
       "      dtype=object)"
      ]
     },
     "execution_count": 17,
     "metadata": {},
     "output_type": "execute_result"
    }
   ],
   "source": [
    "#check the outlier\n",
    "df[df[\"upvote\"]==0.04][\"title\"].values"
   ]
  },
  {
   "cell_type": "markdown",
   "metadata": {},
   "source": [
    "#### Save the clean data"
   ]
  },
  {
   "cell_type": "code",
   "execution_count": 18,
   "metadata": {},
   "outputs": [],
   "source": [
    "#save the cleaned data to csv file\n",
    "df.to_csv('../data/game_clean.csv', index=False)"
   ]
  },
  {
   "cell_type": "markdown",
   "metadata": {},
   "source": [
    "#### Data Dictionary"
   ]
  },
  {
   "cell_type": "markdown",
   "metadata": {},
   "source": [
    "|Features                    | Type    |Description\n",
    "|:---------------------------|:--------|:----------------------------------------------------------------------------------------\n",
    "| title                      | object  |Post title\n",
    "| selftext                   | object  |Post content under the title\n",
    "| subreddit                  | object  |Target variable\n",
    "| feature                    | object  |combined text for Post title and post content"
   ]
  },
  {
   "cell_type": "code",
   "execution_count": null,
   "metadata": {},
   "outputs": [],
   "source": []
  }
 ],
 "metadata": {
  "kernelspec": {
   "display_name": "Python 3",
   "language": "python",
   "name": "python3"
  },
  "language_info": {
   "codemirror_mode": {
    "name": "ipython",
    "version": 3
   },
   "file_extension": ".py",
   "mimetype": "text/x-python",
   "name": "python",
   "nbconvert_exporter": "python",
   "pygments_lexer": "ipython3",
   "version": "3.8.3"
  }
 },
 "nbformat": 4,
 "nbformat_minor": 4
}
